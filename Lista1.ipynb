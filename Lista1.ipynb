{
  "nbformat": 4,
  "nbformat_minor": 0,
  "metadata": {
    "colab": {
      "provenance": [],
      "authorship_tag": "ABX9TyM3lVlvsjn2E/N7nGpCrZ0v",
      "include_colab_link": true
    },
    "kernelspec": {
      "name": "python3",
      "display_name": "Python 3"
    },
    "language_info": {
      "name": "python"
    }
  },
  "cells": [
    {
      "cell_type": "markdown",
      "metadata": {
        "id": "view-in-github",
        "colab_type": "text"
      },
      "source": [
        "<a href=\"https://colab.research.google.com/github/protosto/Jezyki-i-Paradygmaty-Programowania/blob/main/Lista1.ipynb\" target=\"_parent\"><img src=\"https://colab.research.google.com/assets/colab-badge.svg\" alt=\"Open In Colab\"/></a>"
      ]
    },
    {
      "cell_type": "code",
      "execution_count": null,
      "metadata": {
        "id": "pVyhOA6LESX6"
      },
      "outputs": [],
      "source": [
        "// biblioteka.h\n",
        "#ifndef BIBLIOTEKA_H\n",
        "#define BIBLIOTEKA_H\n",
        "\n",
        "typedef struct {\n",
        "    int x;\n",
        "    int y;\n",
        "} DiofantyczneRozwiazanie;\n",
        "\n",
        "unsigned long long silnia_iteracyjnie(int n);\n",
        "unsigned long long silnia_rekurencyjnie(int n);\n",
        "int nwd_iteracyjnie(int a, int b);\n",
        "int nwd_rekurencyjnie(int a, int b);\n",
        "DiofantyczneRozwiazanie diofantyczne_iteracyjnie(int a, int b, int c);\n",
        "DiofantyczneRozwiazanie diofantyczne_rekurencyjnie(int a, int b, int c);\n",
        "\n",
        "#endif // BIBLIOTEKA_H\n"
      ]
    },
    {
      "cell_type": "code",
      "source": [
        "// biblioteka.c\n",
        "#include \"biblioteka.h\"\n",
        "\n",
        "unsigned long long silnia_iteracyjnie(int n) {\n",
        "    if (n < 0) return 0; // Silnia z liczby ujemnej to 0\n",
        "    unsigned long long result = 1;\n",
        "    for (int i = 1; i <= n; ++i) {\n",
        "        result *= i;\n",
        "    }\n",
        "    return result;\n",
        "}\n",
        "\n",
        "unsigned long long silnia_rekurencyjnie(int n) {\n",
        "    if (n < 0) return 0; // Silnia z liczby ujemnej to 0\n",
        "    if (n == 0) return 1; // Silnia z 0 to 1\n",
        "    return n * silnia_rekurencyjnie(n - 1);\n",
        "}\n",
        "\n",
        "int nwd_iteracyjnie(int a, int b) {\n",
        "    while (b != 0) {\n",
        "        int temp = b;\n",
        "        b = a % b;\n",
        "        a = temp;\n",
        "    }\n",
        "    return a;\n",
        "}\n",
        "\n",
        "int nwd_rekurencyjnie(int a, int b) {\n",
        "    if (b == 0) return a;\n",
        "    return nwd_rekurencyjnie(b, a % b);\n",
        "}\n",
        "\n",
        "DiofantyczneRozwiazanie diofantyczne_iteracyjnie(int a, int b, int c) {\n",
        "    DiofantyczneRozwiazanie result;\n",
        "    int d = nwd_iteracyjnie(a, b);\n",
        "    if (c % d == 0) {\n",
        "        // Obliczanie jednego z możliwych rozwiązań\n",
        "        int k = c / d;\n",
        "        result.x = k * (a / d);\n",
        "        result.y = k * (b / d);\n",
        "    } else {\n",
        "        // Brak rozwiązania dla podanych parametrów\n",
        "        result.x = 0;\n",
        "        result.y = 0;\n",
        "    }\n",
        "    return result;\n",
        "}\n",
        "\n",
        "DiofantyczneRozwiazanie diofantyczne_rekurencyjnie(int a, int b, int c) {\n",
        "    DiofantyczneRozwiazanie result;\n",
        "    int d = nwd_rekurencyjnie(a, b);\n",
        "    if (c % d == 0) {\n",
        "        // Obliczanie jednego z możliwych rozwiązań\n",
        "        int k = c / d;\n",
        "        result.x = k * (a / d);\n",
        "        result.y = k * (b / d);\n",
        "    } else {\n",
        "        // Brak rozwiązania dla podanych parametrów\n",
        "        result.x = 0;\n",
        "        result.y = 0;\n",
        "    }\n",
        "    return result;\n",
        "}\n"
      ],
      "metadata": {
        "colab": {
          "base_uri": "https://localhost:8080/",
          "height": 108
        },
        "id": "sCdwaKt9IIdr",
        "outputId": "8ce65d09-a998-45de-df67-e3ffa3252850"
      },
      "execution_count": null,
      "outputs": [
        {
          "output_type": "error",
          "ename": "SyntaxError",
          "evalue": "invalid syntax (<ipython-input-1-c6c10d092878>, line 1)",
          "traceback": [
            "\u001b[0;36m  File \u001b[0;32m\"<ipython-input-1-c6c10d092878>\"\u001b[0;36m, line \u001b[0;32m1\u001b[0m\n\u001b[0;31m    // biblioteka.c\u001b[0m\n\u001b[0m    ^\u001b[0m\n\u001b[0;31mSyntaxError\u001b[0m\u001b[0;31m:\u001b[0m invalid syntax\n"
          ]
        }
      ]
    },
    {
      "cell_type": "code",
      "source": [
        "-- zadanie_2.adb\n",
        "\n",
        "package Zadanie_2 is\n",
        "    type Diofantyczne_Rozwiazanie is record\n",
        "        X : Integer;\n",
        "        Y : Integer;\n",
        "    end record;\n",
        "\n",
        "    function Silnia_Iteracyjnie(N : Integer) return Integer;\n",
        "    function Silnia_Rekurencyjnie(N : Integer) return Integer;\n",
        "    function NWD_Iteracyjnie(A, B : Integer) return Integer;\n",
        "    function NWD_Rekurencyjnie(A, B : Integer) return Integer;\n",
        "    function Diofantyczne_Iteracyjnie(A, B, C : Integer) return Diofantyczne_Rozwiazanie;\n",
        "    function Diofantyczne_Rekurencyjnie(A, B, C : Integer) return Diofantyczne_Rozwiazanie;\n",
        "end Zadanie_2;\n"
      ],
      "metadata": {
        "id": "Rx-gS34PIUIq"
      },
      "execution_count": null,
      "outputs": []
    },
    {
      "cell_type": "code",
      "source": [
        "-- zadanie_2.adb\n",
        "\n",
        "package body Zadanie_2 is\n",
        "    function Silnia_Iteracyjnie(N : Integer) return Integer is\n",
        "        Result : Integer := 1;\n",
        "    begin\n",
        "        if N < 0 then\n",
        "            return 0; -- Silnia z liczby ujemnej to 0\n",
        "        end if;\n",
        "        for I in 1 .. N loop\n",
        "            Result := Result * I;\n",
        "        end loop;\n",
        "        return Result;\n",
        "    end Silnia_Iteracyjnie;\n",
        "\n",
        "    function Silnia_Rekurencyjnie(N : Integer) return Integer is\n",
        "    begin\n",
        "        if N < 0 then\n",
        "            return 0; -- Silnia z liczby ujemnej to 0\n",
        "        elsif N = 0 then\n",
        "            return 1; -- Silnia z 0 to 1\n",
        "        else\n",
        "            return N * Silnia_Rekurencyjnie(N - 1);\n",
        "        end if;\n",
        "    end Silnia_Rekurencyjnie;\n",
        "\n",
        "    function NWD_Iteracyjnie(A, B : Integer) return Integer is\n",
        "        Temp : Integer;\n",
        "    begin\n",
        "        while B /= 0 loop\n",
        "            Temp := B;\n",
        "            B := A mod B;\n",
        "            A := Temp;\n",
        "        end loop;\n",
        "        return A;\n",
        "    end NWD_Iteracyjnie;\n",
        "\n",
        "    function NWD_Rekurencyjnie(A, B : Integer) return Integer is\n",
        "    begin\n",
        "        if B = 0 then\n",
        "            return A;\n",
        "        else\n",
        "            return NWD_Rekurencyjnie(B, A mod B);\n",
        "        end if;\n",
        "    end NWD_Rekurencyjnie;\n",
        "\n",
        "    function Diofantyczne_Iteracyjnie(A, B, C : Integer) return Diofantyczne_Rozwiazanie is\n",
        "        D : Integer := NWD_Iteracyjnie(A, B);\n",
        "        Result : Diofantyczne_Rozwiazanie;\n",
        "    begin\n",
        "        if C mod D = 0 then\n",
        "            -- Obliczanie jednego z możliwych rozwiązań\n",
        "            Result.X := (C / D) * (A / D);\n",
        "            Result.Y := (C / D) * (B / D);\n",
        "        else\n",
        "            -- Brak rozwiązania dla podanych parametrów\n",
        "            Result.X := 0;\n",
        "            Result.Y := 0;\n",
        "        end if;\n",
        "        return Result;\n",
        "    end Diofantyczne_Iteracyjnie;\n",
        "\n",
        "    function Diofantyczne_Rekurencyjnie(A, B, C : Integer) return Diofantyczne_Rozwiazanie is\n",
        "        D : Integer := NWD_Rekurencyjnie(A, B);\n",
        "        Result : Diofantyczne_Rozwiazanie;\n",
        "    begin\n",
        "        if C mod D = 0 then\n",
        "            -- Obliczanie jednego z możliwych rozwiązań\n",
        "            Result.X := (C / D) * (A / D);\n",
        "            Result.Y := (C / D) * (B / D);\n",
        "        else\n",
        "            -- Brak rozwiązania dla podanych parametrów\n",
        "            Result.X := 0;\n",
        "            Result.Y := 0;\n",
        "        end if;\n",
        "        return Result;\n",
        "    end Diofantyczne_Rekurencyjnie;\n",
        "\n",
        "end Zadanie_2;\n"
      ],
      "metadata": {
        "id": "gmJcQSiPIVYV"
      },
      "execution_count": null,
      "outputs": []
    },
    {
      "cell_type": "code",
      "source": [
        "# Zadanie 3: Implementacja w języku Python\n",
        "\n",
        "def silnia(n):\n",
        "    if n < 0:\n",
        "        return 0\n",
        "    elif n == 0:\n",
        "        return 1\n",
        "    else:\n",
        "        return n * silnia(n - 1)\n",
        "\n",
        "def nwd(a, b):\n",
        "    while b != 0:\n",
        "        a, b = b, a % b\n",
        "    return a\n",
        "\n",
        "def diofantyczne(a, b, c):\n",
        "    d = nwd(a, b)\n",
        "    if c % d == 0:\n",
        "        k = c // d\n",
        "        return k * (a // d), k * (b // d)\n",
        "    else:\n",
        "        return 0, 0\n"
      ],
      "metadata": {
        "id": "_GjlKyBjIVhz"
      },
      "execution_count": null,
      "outputs": []
    },
    {
      "cell_type": "code",
      "source": [
        "// Zadanie 4: Wrapper w języku C dla modułu napisanego w Adzie\n",
        "\n",
        "#include \"zadanie_2.ads\"  // Importujemy plik nagłówkowy zdefiniowany w Ada\n",
        "\n",
        "// Funkcje opakowujące funkcje z modułu napisanego w Ada\n",
        "\n",
        "unsigned long long silnia_wrapper(int n) {\n",
        "    return Silnia(n);\n",
        "}\n",
        "\n",
        "int nwd_wrapper(int a, int b) {\n",
        "    return NWD(a, b);\n",
        "}\n",
        "\n",
        "DiofantyczneRozwiazanie diofantyczne_wrapper(int a, int b, int c) {\n",
        "    return Diofantyczne(a, b, c);\n",
        "}\n"
      ],
      "metadata": {
        "id": "ejjNHEU_IVnX"
      },
      "execution_count": null,
      "outputs": []
    },
    {
      "cell_type": "code",
      "source": [
        "-- Zadanie 5: Wrapper w języku Ada dla biblioteki napisanej w C\n",
        "\n",
        "with Interfaces.C_Interfaces;\n",
        "use Interfaces.C_Interfaces;\n",
        "\n",
        "package Zadanie_5 is\n",
        "\n",
        "    function Silnia_Wrapper(N : Integer) return Unsigned_Long_Long;\n",
        "    function NWD_Wrapper(A, B : Integer) return Integer;\n",
        "    function Diofantyczne_Wrapper(A, B, C : Integer) return Diofantyczne_Rozwiazanie;\n",
        "\n",
        "end Zadanie_5;\n"
      ],
      "metadata": {
        "id": "BPw67VhpIVqz"
      },
      "execution_count": null,
      "outputs": []
    },
    {
      "cell_type": "code",
      "source": [
        "-- Zadanie_5.adb\n",
        "\n",
        "with System; use System;\n",
        "\n",
        "package body Zadanie_5 is\n",
        "\n",
        "    function Silnia_Wrapper(N : Integer) return Unsigned_Long_Long is\n",
        "    begin\n",
        "        return Unsigned_Long_Long(biblioteka.silnia(N));\n",
        "    end Silnia_Wrapper;\n",
        "\n",
        "    function NWD_Wrapper(A, B : Integer) return Integer is\n",
        "    begin\n",
        "        return biblioteka.nwd(A, B);\n",
        "    end NWD_Wrapper;\n",
        "\n",
        "    function Diofantyczne_Wrapper(A, B, C : Integer) return Diofantyczne_Rozwiazanie is\n",
        "    begin\n",
        "        return biblioteka.diofantyczne(A, B, C);\n",
        "    end Diofantyczne_Wrapper;\n",
        "\n",
        "end Zadanie_5;\n"
      ],
      "metadata": {
        "id": "7YCX7bp7IVtW"
      },
      "execution_count": null,
      "outputs": []
    },
    {
      "cell_type": "code",
      "source": [
        "# Zadanie 6: Wrapper w języku Python dla biblioteki napisanej w C z zadania 1\n",
        "\n",
        "from ctypes import CDLL, Structure, c_int\n",
        "\n",
        "# Ładowanie biblioteki napisanej w C\n",
        "biblioteka = CDLL(\"./biblioteka.so\")  # Tutaj podaj ścieżkę do biblioteki .so\n",
        "\n",
        "\n",
        "# Definicja struktury DiofantyczneRozwiazanie\n",
        "class DiofantyczneRozwiazanie(Structure):\n",
        "    _fields_ = [(\"x\", c_int), (\"y\", c_int)]\n",
        "\n",
        "\n",
        "# Funkcje opakowujące funkcje z biblioteki napisanej w C\n",
        "\n",
        "def silnia(n):\n",
        "    return biblioteka.silnia_iteracyjnie(n)\n",
        "\n",
        "def nwd(a, b):\n",
        "    return biblioteka.nwd_iteracyjnie(a, b)\n",
        "\n",
        "def diofantyczne(a, b, c):\n",
        "    biblioteka.diofantyczne_iteracyjnie.restype = DiofantyczneRozwiazanie\n",
        "    return biblioteka.diofantyczne_iteracyjnie(a, b, c)\n"
      ],
      "metadata": {
        "id": "6ul_1K_gIVwD"
      },
      "execution_count": null,
      "outputs": []
    },
    {
      "cell_type": "code",
      "source": [
        "# Zadanie 7: Wrapper w języku Python dla biblioteki napisanej w zadaniu 3\n",
        "\n",
        "from library import silnia, nwd, diofantyczne\n",
        "# Zakładając, że library to nazwa pliku, który zawiera implementacje funkcji silnia, nwd, diofantyczne z zadania 3\n"
      ],
      "metadata": {
        "id": "jD9jjvcoIVyz"
      },
      "execution_count": null,
      "outputs": []
    },
    {
      "cell_type": "code",
      "source": [],
      "metadata": {
        "id": "28qJwzgnIV1W"
      },
      "execution_count": null,
      "outputs": []
    }
  ]
}